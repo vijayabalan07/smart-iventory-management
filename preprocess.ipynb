{
 "cells": [
  {
   "cell_type": "code",
   "execution_count": 3,
   "id": "e64cca62-a0c7-4316-89a0-47731b9e7ccf",
   "metadata": {},
   "outputs": [
    {
     "name": "stderr",
     "output_type": "stream",
     "text": [
      "08:48:51 - cmdstanpy - INFO - Chain [1] start processing\n",
      "08:48:51 - cmdstanpy - INFO - Chain [1] done processing\n"
     ]
    },
    {
     "name": "stdout",
     "output_type": "stream",
     "text": [
      "Forecast results stored in MySQL successfully!\n"
     ]
    }
   ],
   "source": [
    "import mysql\n",
    "import mysql.connector\n",
    "import pandas as pd\n",
    "import joblib\n",
    "from prophet import Prophet\n",
    "\n",
    "# Load the sales dataset\n",
    "sales_df = pd.read_csv(\"SALES.csv\", parse_dates=[\"Order_Date\"])\n",
    "sales_agg = sales_df.groupby(\"Order_Date\")[\"Quantity\"].sum().reset_index()\n",
    "sales_agg.columns = [\"ds\", \"y\"]\n",
    "\n",
    "# Train Prophet model\n",
    "model = Prophet()\n",
    "model.fit(sales_agg)\n",
    "\n",
    "# Save the model\n",
    "joblib.dump(model, \"prophet_model.pkl\")\n",
    "\n",
    "# Load the saved model\n",
    "loaded_model = joblib.load(\"prophet_model.pkl\")\n",
    "\n",
    "# Create future dataframe for forecasting\n",
    "future = loaded_model.make_future_dataframe(periods=30)\n",
    "forecast = loaded_model.predict(future)\n",
    "\n",
    "# Connect to MySQL\n",
    "conn = mysql.connector.connect(\n",
    "    host=\"localhost\",\n",
    "    user=\"root\",\n",
    "    password=\"VIJAY@25\",\n",
    "    database=\"SmartInventory\"\n",
    ")\n",
    "cursor = conn.cursor()\n",
    "\n",
    "# Create table if not exists\n",
    "cursor.execute(\"\"\"\n",
    "CREATE TABLE IF NOT EXISTS sales_forecast (\n",
    "    id INT AUTO_INCREMENT PRIMARY KEY,\n",
    "    date DATE,\n",
    "    forecast_value FLOAT\n",
    ");\n",
    "\"\"\")\n",
    "\n",
    "# Insert forecasted data into MySQL\n",
    "for index, row in forecast.iterrows():\n",
    "    cursor.execute(\"INSERT INTO sales_forecast (date, forecast_value) VALUES (%s, %s)\", (row[\"ds\"], row[\"yhat\"]))\n",
    "\n",
    "# Commit and close connection\n",
    "conn.commit()\n",
    "cursor.close()\n",
    "conn.close()\n",
    "print(\"Forecast results stored in MySQL successfully!\")\n"
   ]
  },
  {
   "cell_type": "code",
   "execution_count": null,
   "id": "e7bdb2ed-00ec-493b-bdd1-a3a30d57f9cf",
   "metadata": {},
   "outputs": [],
   "source": [
    "import numpy as np\n",
    "import pandas as pd\n",
    "import joblib\n",
    "\n",
    "# Load trained Q-table\n",
    "q_table = joblib.load(\"optimized_q_table.pkl\")\n",
    "\n",
    "# Load inventory data\n",
    "inventory_df = pd.read_csv(\"updated_inventory_data.csv\")\n",
    "\n",
    "# Ensure State_Num is correctly assigned\n",
    "assert inventory_df[\"State_Num\"].isin([0, 1, 2]).all(), \"Error: State_Num contains unexpected values!\"\n",
    "\n",
    "# Apply Q-table to predict Optimal_Restocking_Time\n",
    "inventory_df[\"Optimal_Restocking_Time\"] = inventory_df[\"State_Num\"].apply(lambda state: np.argmax(q_table[state]))\n",
    "\n",
    "# Save updated dataset\n",
    "inventory_df.to_csv(\"updated_inventory_with_rl.csv\", index=False)\n",
    "\n",
    "print(\"✔️ Q-learning model applied successfully!\")\n",
    "print(inventory_df.head())\n"
   ]
  },
  {
   "cell_type": "code",
   "execution_count": 5,
   "id": "89ebf248-5103-454d-b77f-e53594930cdb",
   "metadata": {},
   "outputs": [],
   "source": [
    "def classify_state(stock, reorder_level):\n",
    "    if stock <= reorder_level:\n",
    "        return 0  # Low Stock\n",
    "    elif stock <= reorder_level * 2:\n",
    "        return 1  # Medium Stock\n",
    "    else:\n",
    "        return 2  # High Stock\n",
    "\n",
    "inventory_data_rl[\"State_Num\"] = inventory_data_rl.apply(lambda row: classify_state(row[\"Current_Stock\"], row[\"Reorder_Level\"]), axis=1)\n",
    "\n",
    "# Now, apply RL model\n",
    "inventory_data_rl[\"Optimal_Restocking_Time\"] = inventory_data_rl[\"State_Num\"].apply(get_optimal_action)\n"
   ]
  },
  {
   "cell_type": "code",
   "execution_count": 7,
   "id": "a76d502e-2cf3-446e-9572-ac8a4a52dd6d",
   "metadata": {},
   "outputs": [
    {
     "data": {
      "text/html": [
       "<div>\n",
       "<style scoped>\n",
       "    .dataframe tbody tr th:only-of-type {\n",
       "        vertical-align: middle;\n",
       "    }\n",
       "\n",
       "    .dataframe tbody tr th {\n",
       "        vertical-align: top;\n",
       "    }\n",
       "\n",
       "    .dataframe thead th {\n",
       "        text-align: right;\n",
       "    }\n",
       "</style>\n",
       "<table border=\"1\" class=\"dataframe\">\n",
       "  <thead>\n",
       "    <tr style=\"text-align: right;\">\n",
       "      <th></th>\n",
       "      <th>Store_Key</th>\n",
       "      <th>Product_Key</th>\n",
       "      <th>Initial_Stock</th>\n",
       "      <th>Current_Stock</th>\n",
       "      <th>Reorder_Level</th>\n",
       "      <th>Last_Restock_Date</th>\n",
       "      <th>Supplier</th>\n",
       "      <th>State_Num</th>\n",
       "      <th>Optimal_Restocking_Time</th>\n",
       "    </tr>\n",
       "  </thead>\n",
       "  <tbody>\n",
       "    <tr>\n",
       "      <th>0</th>\n",
       "      <td>1</td>\n",
       "      <td>1</td>\n",
       "      <td>72</td>\n",
       "      <td>72</td>\n",
       "      <td>14</td>\n",
       "      <td>2024-11-05</td>\n",
       "      <td>Supplier B</td>\n",
       "      <td>2</td>\n",
       "      <td>1</td>\n",
       "    </tr>\n",
       "    <tr>\n",
       "      <th>1</th>\n",
       "      <td>1</td>\n",
       "      <td>2</td>\n",
       "      <td>170</td>\n",
       "      <td>170</td>\n",
       "      <td>34</td>\n",
       "      <td>2024-12-09</td>\n",
       "      <td>Supplier B</td>\n",
       "      <td>2</td>\n",
       "      <td>1</td>\n",
       "    </tr>\n",
       "    <tr>\n",
       "      <th>2</th>\n",
       "      <td>1</td>\n",
       "      <td>3</td>\n",
       "      <td>383</td>\n",
       "      <td>383</td>\n",
       "      <td>76</td>\n",
       "      <td>2024-10-18</td>\n",
       "      <td>Supplier B</td>\n",
       "      <td>2</td>\n",
       "      <td>1</td>\n",
       "    </tr>\n",
       "    <tr>\n",
       "      <th>3</th>\n",
       "      <td>1</td>\n",
       "      <td>4</td>\n",
       "      <td>284</td>\n",
       "      <td>284</td>\n",
       "      <td>56</td>\n",
       "      <td>2024-10-22</td>\n",
       "      <td>Supplier B</td>\n",
       "      <td>2</td>\n",
       "      <td>1</td>\n",
       "    </tr>\n",
       "    <tr>\n",
       "      <th>4</th>\n",
       "      <td>1</td>\n",
       "      <td>5</td>\n",
       "      <td>135</td>\n",
       "      <td>135</td>\n",
       "      <td>27</td>\n",
       "      <td>2024-11-26</td>\n",
       "      <td>Supplier D</td>\n",
       "      <td>2</td>\n",
       "      <td>1</td>\n",
       "    </tr>\n",
       "  </tbody>\n",
       "</table>\n",
       "</div>"
      ],
      "text/plain": [
       "   Store_Key  Product_Key  Initial_Stock  Current_Stock  Reorder_Level  \\\n",
       "0          1            1             72             72             14   \n",
       "1          1            2            170            170             34   \n",
       "2          1            3            383            383             76   \n",
       "3          1            4            284            284             56   \n",
       "4          1            5            135            135             27   \n",
       "\n",
       "  Last_Restock_Date    Supplier  State_Num  Optimal_Restocking_Time  \n",
       "0        2024-11-05  Supplier B          2                        1  \n",
       "1        2024-12-09  Supplier B          2                        1  \n",
       "2        2024-10-18  Supplier B          2                        1  \n",
       "3        2024-10-22  Supplier B          2                        1  \n",
       "4        2024-11-26  Supplier D          2                        1  "
      ]
     },
     "execution_count": 7,
     "metadata": {},
     "output_type": "execute_result"
    }
   ],
   "source": [
    "inventory_data_rl.head()"
   ]
  },
  {
   "cell_type": "code",
   "execution_count": 8,
   "id": "b4eb9757-1fce-421d-949e-a1871695b7c3",
   "metadata": {},
   "outputs": [
    {
     "name": "stdout",
     "output_type": "stream",
     "text": [
      "Unique State_Num values in dataset: [2 0 1]\n"
     ]
    }
   ],
   "source": [
    "print(\"Unique State_Num values in dataset:\", inventory_data_rl[\"State_Num\"].unique())"
   ]
  },
  {
   "cell_type": "code",
   "execution_count": 7,
   "id": "7ca63d52-9bd3-4e50-9e85-230931f93a01",
   "metadata": {},
   "outputs": [],
   "source": [
    "# Create 'State' column (example based on inventory levels)\n",
    "inventory_data_rl['State'] = (\n",
    "    inventory_data_rl['Current_Stock'] - inventory_data_rl['Reorder_Level']\n",
    ").apply(lambda x: \"Low\" if x <= 0 else \"High\")\n"
   ]
  },
  {
   "cell_type": "code",
   "execution_count": 8,
   "id": "26868acc-13d1-4880-b6f6-841586310541",
   "metadata": {},
   "outputs": [],
   "source": [
    "# Map states to numerical values (adjust as needed)\n",
    "state_mapping = {\"Low\": 0, \"High\": 1}\n",
    "inventory_data_rl['State_Num'] = inventory_data_rl['State'].map(state_mapping)\n"
   ]
  },
  {
   "cell_type": "code",
   "execution_count": 9,
   "id": "b22ba437-0316-42b1-b7de-b11a9ca56419",
   "metadata": {},
   "outputs": [],
   "source": [
    "import numpy as np\n",
    "\n",
    "# Function to find the optimal action\n",
    "def get_optimal_action(state_num):\n",
    "    if state_num < len(rl_model):  # Ensure state_num is within range\n",
    "        return np.argmax(rl_model[state_num])  # Action with max Q-value\n",
    "    else:\n",
    "        return \"Invalid State\"\n",
    "\n",
    "# Apply function to determine the optimal restocking action\n",
    "inventory_data_rl[\"Optimal_Restocking_Time\"] = inventory_data_rl[\"State_Num\"].apply(get_optimal_action)\n"
   ]
  },
  {
   "cell_type": "code",
   "execution_count": 10,
   "id": "14b851c4-f4f4-4969-b6f2-8e16ec19cc2b",
   "metadata": {},
   "outputs": [
    {
     "name": "stdout",
     "output_type": "stream",
     "text": [
      "   Store_Key  Product_Key  Initial_Stock  Current_Stock  Reorder_Level  \\\n",
      "0          1            1             72             72             14   \n",
      "1          1            2            170            170             34   \n",
      "2          1            3            383            383             76   \n",
      "3          1            4            284            284             56   \n",
      "4          1            5            135            135             27   \n",
      "\n",
      "  Last_Restock_Date    Supplier State  State_Num  Optimal_Restocking_Time  \n",
      "0        2024-11-05  Supplier B  High          1                        1  \n",
      "1        2024-12-09  Supplier B  High          1                        1  \n",
      "2        2024-10-18  Supplier B  High          1                        1  \n",
      "3        2024-10-22  Supplier B  High          1                        1  \n",
      "4        2024-11-26  Supplier D  High          1                        1  \n"
     ]
    }
   ],
   "source": [
    "print(inventory_data_rl.head())\n"
   ]
  },
  {
   "cell_type": "code",
   "execution_count": 2,
   "id": "0150f1a2-9cdb-4c98-bacf-9c51bc293a0c",
   "metadata": {},
   "outputs": [
    {
     "data": {
      "text/html": [
       "<div>\n",
       "<style scoped>\n",
       "    .dataframe tbody tr th:only-of-type {\n",
       "        vertical-align: middle;\n",
       "    }\n",
       "\n",
       "    .dataframe tbody tr th {\n",
       "        vertical-align: top;\n",
       "    }\n",
       "\n",
       "    .dataframe thead th {\n",
       "        text-align: right;\n",
       "    }\n",
       "</style>\n",
       "<table border=\"1\" class=\"dataframe\">\n",
       "  <thead>\n",
       "    <tr style=\"text-align: right;\">\n",
       "      <th></th>\n",
       "      <th>Store_Key</th>\n",
       "      <th>Product_Key</th>\n",
       "      <th>Initial_Stock</th>\n",
       "      <th>Current_Stock</th>\n",
       "      <th>Reorder_Level</th>\n",
       "      <th>Last_Restock_Date</th>\n",
       "      <th>Supplier</th>\n",
       "      <th>State</th>\n",
       "      <th>State_Num</th>\n",
       "      <th>Optimal_Restocking_Time</th>\n",
       "      <th>Action_Description</th>\n",
       "    </tr>\n",
       "  </thead>\n",
       "  <tbody>\n",
       "    <tr>\n",
       "      <th>0</th>\n",
       "      <td>1</td>\n",
       "      <td>1</td>\n",
       "      <td>72</td>\n",
       "      <td>72</td>\n",
       "      <td>14</td>\n",
       "      <td>2024-11-05</td>\n",
       "      <td>Supplier B</td>\n",
       "      <td>High</td>\n",
       "      <td>1</td>\n",
       "      <td>1</td>\n",
       "      <td>Restock Immediately</td>\n",
       "    </tr>\n",
       "    <tr>\n",
       "      <th>1</th>\n",
       "      <td>1</td>\n",
       "      <td>2</td>\n",
       "      <td>170</td>\n",
       "      <td>170</td>\n",
       "      <td>34</td>\n",
       "      <td>2024-12-09</td>\n",
       "      <td>Supplier B</td>\n",
       "      <td>High</td>\n",
       "      <td>1</td>\n",
       "      <td>1</td>\n",
       "      <td>Restock Immediately</td>\n",
       "    </tr>\n",
       "    <tr>\n",
       "      <th>2</th>\n",
       "      <td>1</td>\n",
       "      <td>3</td>\n",
       "      <td>383</td>\n",
       "      <td>383</td>\n",
       "      <td>76</td>\n",
       "      <td>2024-10-18</td>\n",
       "      <td>Supplier B</td>\n",
       "      <td>High</td>\n",
       "      <td>1</td>\n",
       "      <td>1</td>\n",
       "      <td>Restock Immediately</td>\n",
       "    </tr>\n",
       "    <tr>\n",
       "      <th>3</th>\n",
       "      <td>1</td>\n",
       "      <td>4</td>\n",
       "      <td>284</td>\n",
       "      <td>284</td>\n",
       "      <td>56</td>\n",
       "      <td>2024-10-22</td>\n",
       "      <td>Supplier B</td>\n",
       "      <td>High</td>\n",
       "      <td>1</td>\n",
       "      <td>1</td>\n",
       "      <td>Restock Immediately</td>\n",
       "    </tr>\n",
       "    <tr>\n",
       "      <th>4</th>\n",
       "      <td>1</td>\n",
       "      <td>5</td>\n",
       "      <td>135</td>\n",
       "      <td>135</td>\n",
       "      <td>27</td>\n",
       "      <td>2024-11-26</td>\n",
       "      <td>Supplier D</td>\n",
       "      <td>High</td>\n",
       "      <td>1</td>\n",
       "      <td>1</td>\n",
       "      <td>Restock Immediately</td>\n",
       "    </tr>\n",
       "  </tbody>\n",
       "</table>\n",
       "</div>"
      ],
      "text/plain": [
       "   Store_Key  Product_Key  Initial_Stock  Current_Stock  Reorder_Level  \\\n",
       "0          1            1             72             72             14   \n",
       "1          1            2            170            170             34   \n",
       "2          1            3            383            383             76   \n",
       "3          1            4            284            284             56   \n",
       "4          1            5            135            135             27   \n",
       "\n",
       "  Last_Restock_Date    Supplier State  State_Num  Optimal_Restocking_Time  \\\n",
       "0        2024-11-05  Supplier B  High          1                        1   \n",
       "1        2024-12-09  Supplier B  High          1                        1   \n",
       "2        2024-10-18  Supplier B  High          1                        1   \n",
       "3        2024-10-22  Supplier B  High          1                        1   \n",
       "4        2024-11-26  Supplier D  High          1                        1   \n",
       "\n",
       "    Action_Description  \n",
       "0  Restock Immediately  \n",
       "1  Restock Immediately  \n",
       "2  Restock Immediately  \n",
       "3  Restock Immediately  \n",
       "4  Restock Immediately  "
      ]
     },
     "execution_count": 2,
     "metadata": {},
     "output_type": "execute_result"
    }
   ],
   "source": [
    "import pandas as pd\n",
    "inventry_df = pd.read_csv(\"updated_inventory_data.csv\")\n",
    "inventry_df.head()"
   ]
  },
  {
   "cell_type": "code",
   "execution_count": 11,
   "id": "ac7987a3-b4b7-45a4-b317-050bc3ca03d1",
   "metadata": {},
   "outputs": [
    {
     "name": "stdout",
     "output_type": "stream",
     "text": [
      "Q-Values for State 1: [-3.  0.  0.]\n"
     ]
    }
   ],
   "source": [
    "print(f\"Q-Values for State 1: {rl_model[1]}\")\n"
   ]
  },
  {
   "cell_type": "code",
   "execution_count": 12,
   "id": "73ad4987-c9a9-4ad6-a6bd-e0054b5d3612",
   "metadata": {},
   "outputs": [
    {
     "name": "stdout",
     "output_type": "stream",
     "text": [
      "   Store_Key  Product_Key  Initial_Stock  Current_Stock  Reorder_Level  \\\n",
      "0          1            1             72             72             14   \n",
      "1          1            2            170            170             34   \n",
      "2          1            3            383            383             76   \n",
      "3          1            4            284            284             56   \n",
      "4          1            5            135            135             27   \n",
      "\n",
      "  Last_Restock_Date    Supplier State  State_Num  Optimal_Restocking_Time  \\\n",
      "0        2024-11-05  Supplier B  High          1                        1   \n",
      "1        2024-12-09  Supplier B  High          1                        1   \n",
      "2        2024-10-18  Supplier B  High          1                        1   \n",
      "3        2024-10-22  Supplier B  High          1                        1   \n",
      "4        2024-11-26  Supplier D  High          1                        1   \n",
      "\n",
      "    Action_Description  \n",
      "0  Restock Immediately  \n",
      "1  Restock Immediately  \n",
      "2  Restock Immediately  \n",
      "3  Restock Immediately  \n",
      "4  Restock Immediately  \n"
     ]
    }
   ],
   "source": [
    "action_mapping = {0: \"Do Nothing\", 1: \"Restock Immediately\", 2: \"Monitor\"}\n",
    "inventory_data_rl[\"Action_Description\"] = inventory_data_rl[\"Optimal_Restocking_Time\"].map(action_mapping)\n",
    "print(inventory_data_rl.head())\n"
   ]
  },
  {
   "cell_type": "code",
   "execution_count": 14,
   "id": "79e5f9ff-f910-4bf3-8486-88a44633a580",
   "metadata": {},
   "outputs": [],
   "source": [
    "def get_optimal_action(state_num):\n",
    "    # Check if state_num is within the bounds of the Q-table\n",
    "    if state_num >= len(rl_model):\n",
    "        return \"Unknown State\"\n",
    "    \n",
    "    # Retrieve the Q-values for the given state_num\n",
    "    q_values = rl_model[state_num]\n",
    "    optimal_action = q_values.argmax()\n",
    "    return optimal_action\n"
   ]
  },
  {
   "cell_type": "code",
   "execution_count": 15,
   "id": "25734e72-e862-4376-8e14-cc8ef37035ba",
   "metadata": {},
   "outputs": [
    {
     "name": "stdout",
     "output_type": "stream",
     "text": [
      "   Store_Key  Product_Key  Initial_Stock  Current_Stock  Reorder_Level  \\\n",
      "0          1            1             72             72             14   \n",
      "1          1            2            170            170             34   \n",
      "2          1            3            383            383             76   \n",
      "3          1            4            284            284             56   \n",
      "4          1            5            135            135             27   \n",
      "\n",
      "  Last_Restock_Date    Supplier State  State_Num  Optimal_Restocking_Time  \\\n",
      "0        2024-11-05  Supplier B  High          1                        1   \n",
      "1        2024-12-09  Supplier B  High          1                        1   \n",
      "2        2024-10-18  Supplier B  High          1                        1   \n",
      "3        2024-10-22  Supplier B  High          1                        1   \n",
      "4        2024-11-26  Supplier D  High          1                        1   \n",
      "\n",
      "    Action_Description  \n",
      "0  Restock Immediately  \n",
      "1  Restock Immediately  \n",
      "2  Restock Immediately  \n",
      "3  Restock Immediately  \n",
      "4  Restock Immediately  \n"
     ]
    }
   ],
   "source": [
    "# Apply the function to determine the optimal action for each row\n",
    "inventory_data_rl[\"Optimal_Restocking_Time\"] = inventory_data_rl[\"State_Num\"].apply(get_optimal_action)\n",
    "\n",
    "# Map the action to human-readable descriptions\n",
    "action_mapping = {0: \"Do Nothing\", 1: \"Restock Immediately\", 2: \"Monitor\"}\n",
    "inventory_data_rl[\"Action_Description\"] = inventory_data_rl[\"Optimal_Restocking_Time\"].map(action_mapping)\n",
    "\n",
    "# Display the updated DataFrame\n",
    "print(inventory_data_rl.head())\n"
   ]
  },
  {
   "cell_type": "code",
   "execution_count": 1,
   "id": "94a57b37-f58e-4a6e-9312-3deb0adcae62",
   "metadata": {},
   "outputs": [],
   "source": [
    "import pandas as pd\n",
    "\n",
    "# Example: Load your inventory dataset\n",
    "inventory_data_rl = pd.read_csv(\"Inventory1.csv\") # Adjust the path\n",
    "\n",
    "\n",
    "\n"
   ]
  },
  {
   "cell_type": "code",
   "execution_count": 2,
   "id": "f86d08f9-d76f-40b3-8f0c-8afc85a29c6f",
   "metadata": {},
   "outputs": [
    {
     "data": {
      "text/html": [
       "<a href='updated_inventory_data.csv' target='_blank'>updated_inventory_data.csv</a><br>"
      ],
      "text/plain": [
       "C:\\Users\\vijayabalan\\updated_inventory_data.csv"
      ]
     },
     "execution_count": 2,
     "metadata": {},
     "output_type": "execute_result"
    }
   ],
   "source": [
    "from IPython.display import FileLink\n",
    "\n",
    "# Generate a download link for the file\n",
    "FileLink(\"updated_inventory_data.csv\")\n"
   ]
  },
  {
   "cell_type": "code",
   "execution_count": 6,
   "id": "6a29754a-8c93-4cd2-bb8b-f6846150ce3e",
   "metadata": {},
   "outputs": [
    {
     "name": "stdout",
     "output_type": "stream",
     "text": [
      "<class 'numpy.ndarray'>\n",
      "[[ 0.          0.          0.        ]\n",
      " [-3.          0.          0.        ]\n",
      " [-3.          0.          0.        ]\n",
      " [-3.         29.0090933   0.        ]\n",
      " [-3.          0.          0.        ]\n",
      " [-3.         94.87719409  0.        ]\n",
      " [-3.         98.6554149   0.        ]\n",
      " [-5.1        95.49852911  0.        ]\n",
      " [-5.1        98.12391594 29.09693504]\n",
      " [-3.         99.59953625  0.        ]\n",
      " [-1.73205751 99.88004492 29.1677346 ]\n",
      " [-3.         98.95526201  0.        ]\n",
      " [-3.         99.65709863  0.        ]\n",
      " [12.00105864 99.97481638 49.11015208]\n",
      " [-6.57       98.68628382 28.9549638 ]\n",
      " [44.92137158 28.77917593 99.99999883]\n",
      " [65.40862015 99.99999895 87.20250265]\n",
      " [57.12715503 99.99999931 89.10689745]\n",
      " [67.63114163 99.99999925 89.41739168]\n",
      " [55.9029248  99.99999933 76.63431293]\n",
      " [78.45922221 99.99999927 70.47478127]\n",
      " [80.10898961 99.99999933 83.68604572]\n",
      " [86.58206966 99.99999934 81.43156704]\n",
      " [88.68356068 99.99999934 79.75162659]\n",
      " [86.83286803 99.99999924 77.70786272]\n",
      " [98.67323983 99.99999925 77.02048457]\n",
      " [99.99999926 79.40961307 67.82837263]\n",
      " [99.99999931 93.77246637 70.18985398]\n",
      " [99.99999929 89.10537552 72.34433324]\n",
      " [99.99999931 86.78471909 72.61706141]\n",
      " [99.99999934 86.11915354 75.11433822]\n",
      " [99.99999925 82.92879312 70.85467305]\n",
      " [99.99999935 83.07811149 73.72557632]\n",
      " [99.99999931 82.40475757 72.13748958]\n",
      " [99.99999929 80.79642108 61.28555706]\n",
      " [99.99999932 66.20058132 69.17800307]\n",
      " [99.99999918 74.38017054 75.18096744]\n",
      " [99.99999926 72.83345724 53.75812823]\n",
      " [99.9999993  62.13704631 40.6325069 ]\n",
      " [99.99999916 64.36220991 36.03623004]\n",
      " [99.99237729 26.16358729 21.59852418]\n",
      " [99.99974425  0.         -1.14286259]\n",
      " [99.99988492 26.696321    0.        ]\n",
      " [99.99765446 21.1968258  57.34863243]\n",
      " [99.99766787  0.         21.78191644]\n",
      " [99.91131961  0.4494715  11.46667173]\n",
      " [92.28560547 19.57928622  0.        ]\n",
      " [94.57224585 20.85853932  0.        ]\n",
      " [94.93604144  0.         15.26491287]\n",
      " [85.73265003  0.         32.96410991]\n",
      " [88.16398118 52.54005683 -2.6069735 ]]\n"
     ]
    }
   ],
   "source": [
    "import joblib\n",
    "\n",
    "q_table = joblib.load(\"C:/Users/vijayabalan/Downloads/optimized_q_table.pkl\")\n",
    "print(type(q_table))\n",
    "print(q_table)\n"
   ]
  },
  {
   "cell_type": "code",
   "execution_count": null,
   "id": "6d759cc3-ee4c-4924-8020-8d84122bfbdc",
   "metadata": {},
   "outputs": [],
   "source": [
    "import numpy as np\n",
    "\n",
    "# Define stock level states\n",
    "MAX_STOCK = 100  \n",
    "REORDER_LEVEL = 30  \n",
    "OVERSTOCK_LEVEL = 80  \n",
    "\n",
    "# Define actions: 0 = No restock, 1 = Medium restock, 2 = Large restock\n",
    "ACTIONS = [0, 1, 2]\n",
    "\n",
    "# Q-learning parameters\n",
    "ALPHA = 0.1  # Learning rate\n",
    "GAMMA = 0.9  # Discount factor\n",
    "EPSILON = 0.1  # Exploration rate\n",
    "EPISODES = 1000  \n",
    "\n",
    "# Initialize Q-table\n",
    "q_table = np.zeros((MAX_STOCK + 1, len(ACTIONS)))  # (Stock levels, Actions)\n",
    "\n",
    "# Function to get reward based on stock level\n",
    "def get_reward(stock, action):\n",
    "    if action == 0:  # No restock\n",
    "        new_stock = max(stock - np.random.randint(5, 15), 0)  # Simulate demand reduction\n",
    "    elif action == 1:  # Medium restock\n",
    "        new_stock = stock + np.random.randint(10, 20)\n",
    "    else:  # Large restock\n",
    "        new_stock = stock + np.random.randint(20, 30)\n",
    "\n",
    "    new_stock = min(new_stock, MAX_STOCK)  # ✅ Ensure stock does not exceed max limit\n",
    "\n",
    "    # Reward system\n",
    "    if new_stock < REORDER_LEVEL:\n",
    "        reward = -10  # Penalty for low stock\n",
    "    elif new_stock > OVERSTOCK_LEVEL:\n",
    "        reward = -5   # Penalty for overstocking\n",
    "    else:\n",
    "        reward = 10   # Reward for optimal stock level\n",
    "\n",
    "    return reward, new_stock\n",
    "\n",
    "# Train Q-learning model\n",
    "for episode in range(EPISODES):\n",
    "    stock = np.random.randint(0, MAX_STOCK)  # Start with random stock level\n",
    "    \n",
    "    while stock > 0:  # Run until stock is depleted\n",
    "        # Choose action (ε-greedy strategy)\n",
    "        if np.random.rand() < EPSILON:\n",
    "            action = np.random.choice(ACTIONS)  # Explore\n",
    "        else:\n",
    "            action = np.argmax(q_table[stock])  # Exploit best action\n",
    "\n",
    "        # Get reward and new state\n",
    "        reward, new_stock = get_reward(stock, action)\n",
    "\n",
    "        # Update Q-table using Bellman equation\n",
    "        q_table[stock, action] = (1 - ALPHA) * q_table[stock, action] + \\\n",
    "                                 ALPHA * (reward + GAMMA * np.max(q_table[new_stock]))\n",
    "\n",
    "        stock = new_stock  # Move to new state\n",
    "        \n",
    "        if stock == 0:  # Stop episode if stock is completely depleted\n",
    "            break\n",
    "\n",
    "# ✅ Save trained model\n",
    "import joblib\n",
    "joblib.dump(q_table, \"reinforcement_learning_q_table.pkl\")\n",
    "print(\"✔️ Q-learning model saved successfully!\")\n",
    "\n",
    "# ✅ Load the model (for verification)\n",
    "q_table_loaded = joblib.load(\"reinforcement_learning_q_table.pkl\")\n",
    "print(\"✔️ Q-table loaded successfully! Shape:\", q_table_loaded.shape)\n"
   ]
  },
  {
   "cell_type": "code",
   "execution_count": null,
   "id": "7cc04fee-b684-406b-a73d-19d5e9336907",
   "metadata": {},
   "outputs": [],
   "source": [
    "import mysql.connector\n",
    "import pandas as pd\n",
    "import joblib\n",
    "from prophet import Prophet\n",
    "\n",
    "# Load the sales dataset\n",
    "sales_df = pd.read_csv(\"/mnt/data/Sales.csv\", parse_dates=[\"Order_Date\"])\n",
    "sales_agg = sales_df.groupby(\"Order_Date\")[\"Quantity\"].sum().reset_index()\n",
    "sales_agg.columns = [\"ds\", \"y\"]\n",
    "\n",
    "# Train Prophet model\n",
    "model = Prophet()\n",
    "model.fit(sales_agg)\n",
    "\n",
    "# Save the model\n",
    "joblib.dump(model, \"/mnt/data/prophet_model.pkl\")\n",
    "\n",
    "# Load the saved model\n",
    "loaded_model = joblib.load(\"/mnt/data/prophet_model.pkl\")\n",
    "\n",
    "# Create future dataframe for forecasting\n",
    "future = loaded_model.make_future_dataframe(periods=30)\n",
    "forecast = loaded_model.predict(future)\n",
    "\n",
    "# Connect to MySQL\n",
    "conn = mysql.connector.connect(\n",
    "    host=\"your_mysql_host\", \n",
    "    user=\"your_mysql_user\", \n",
    "    password=\"your_mysql_password\", \n",
    "    database=\"your_database\"\n",
    ")\n",
    "cursor = conn.cursor()\n",
    "\n",
    "# Create table if not exists\n",
    "cursor.execute(\"\"\"\n",
    "CREATE TABLE IF NOT EXISTS sales_forecast (\n",
    "    id INT AUTO_INCREMENT PRIMARY KEY,\n",
    "    date DATE,\n",
    "    forecast_value FLOAT\n",
    ");\n",
    "\"\"\")\n",
    "\n",
    "# Insert forecasted data into MySQL\n",
    "for index, row in forecast.iterrows():\n",
    "    cursor.execute(\"INSERT INTO sales_forecast (date, forecast_value) VALUES (%s, %s)\", (row[\"ds\"], row[\"yhat\"]))\n",
    "\n",
    "# Commit and close connection\n",
    "conn.commit()\n",
    "cursor.close()\n",
    "conn.close()\n",
    "print(\"Forecast results stored in MySQL successfully!\")\n"
   ]
  },
  {
   "cell_type": "code",
   "execution_count": null,
   "id": "9bcac591-7ffb-4983-80ed-d395ec47a1b9",
   "metadata": {},
   "outputs": [],
   "source": [
    "import pandas as pd\n",
    "sales_df = pd.read_csv(\"SALES.csv\")"
   ]
  },
  {
   "cell_type": "code",
   "execution_count": null,
   "id": "64ca992f-4900-4e33-b48c-a3a961c89086",
   "metadata": {},
   "outputs": [],
   "source": [
    "pip install prophet\n"
   ]
  },
  {
   "cell_type": "code",
   "execution_count": 4,
   "id": "e49f8b2a-0cac-4560-88b3-52f5edebd83b",
   "metadata": {},
   "outputs": [
    {
     "name": "stdout",
     "output_type": "stream",
     "text": [
      "Requirement already satisfied: scikit-learn in c:\\users\\vijayabalan\\anaconda3\\lib\\site-packages (1.5.1)\n",
      "Requirement already satisfied: numpy>=1.19.5 in c:\\users\\vijayabalan\\anaconda3\\lib\\site-packages (from scikit-learn) (1.26.4)\n",
      "Requirement already satisfied: scipy>=1.6.0 in c:\\users\\vijayabalan\\anaconda3\\lib\\site-packages (from scikit-learn) (1.13.1)\n",
      "Requirement already satisfied: joblib>=1.2.0 in c:\\users\\vijayabalan\\anaconda3\\lib\\site-packages (from scikit-learn) (1.4.2)\n",
      "Requirement already satisfied: threadpoolctl>=3.1.0 in c:\\users\\vijayabalan\\anaconda3\\lib\\site-packages (from scikit-learn) (3.5.0)\n"
     ]
    }
   ],
   "source": [
    "!pip install scikit-learn\n"
   ]
  },
  {
   "cell_type": "code",
   "execution_count": 1,
   "id": "4673ef05-f727-41b5-90fa-a4c79a634ff8",
   "metadata": {},
   "outputs": [
    {
     "name": "stdout",
     "output_type": "stream",
     "text": [
      "✅ Anomaly detection results stored in MySQL successfully!\n"
     ]
    }
   ],
   "source": [
    "import pandas as pd\n",
    "import numpy as np\n",
    "from sklearn.svm import OneClassSVM\n",
    "import mysql.connector\n",
    "\n",
    "# Load inventory dataset\n",
    "inventory_df = pd.read_csv(\"Inventory1.csv\")\n",
    "\n",
    "# ✅ Use \"Current_Stock\" instead of \"Stock_Level\"\n",
    "X = inventory_df[[\"Current_Stock\"]].values  \n",
    "\n",
    "# Train One-Class SVM model\n",
    "oc_svm = OneClassSVM(nu=0.05, kernel=\"rbf\", gamma=0.1)\n",
    "oc_svm.fit(X)\n",
    "\n",
    "# Predict anomalies (-1 = anomaly, 1 = normal)\n",
    "inventory_df[\"Anomaly\"] = oc_svm.predict(X)\n",
    "\n",
    "# Store results in MySQL\n",
    "conn = mysql.connector.connect(\n",
    "    host=\"localhost\",\n",
    "    user=\"root\",\n",
    "    password=\"VIJAY@25\",\n",
    "    database=\"SmartInventory\"\n",
    ")\n",
    "cursor = conn.cursor()\n",
    "\n",
    "# Create table if not exists\n",
    "cursor.execute(\"\"\"\n",
    "CREATE TABLE IF NOT EXISTS inventory_anomalies (\n",
    "    id INT AUTO_INCREMENT PRIMARY KEY,\n",
    "    product_id INT,\n",
    "    stock_level FLOAT,\n",
    "    anomaly_status INT\n",
    ");\n",
    "\"\"\")\n",
    "\n",
    "# Insert anomaly detection results into MySQL\n",
    "for index, row in inventory_df.iterrows():\n",
    "    cursor.execute(\"INSERT INTO inventory_anomalies (product_id, stock_level, anomaly_status) VALUES (%s, %s, %s)\", \n",
    "                   (row[\"Product_Key\"], row[\"Current_Stock\"], row[\"Anomaly\"]))\n",
    "\n",
    "# Commit and close connection\n",
    "conn.commit()\n",
    "cursor.close()\n",
    "conn.close()\n",
    "print(\"✅ Anomaly detection results stored in MySQL successfully!\")\n",
    "\n"
   ]
  },
  {
   "cell_type": "code",
   "execution_count": 2,
   "id": "56f360b7-9422-44bf-ab27-8953bf7b8d2f",
   "metadata": {},
   "outputs": [
    {
     "name": "stdout",
     "output_type": "stream",
     "text": [
      "Model saved successfully!\n"
     ]
    }
   ],
   "source": [
    "import joblib\n",
    "\n",
    "# Save the model\n",
    "joblib.dump(oc_svm, \"one_class_svm_model.pkl\")\n",
    "print(\"Model saved successfully!\")\n"
   ]
  },
  {
   "cell_type": "code",
   "execution_count": 3,
   "id": "341468e2-3188-4187-a3d0-e7df941d0caa",
   "metadata": {},
   "outputs": [
    {
     "data": {
      "text/html": [
       "<a href='one_class_svm_model.pkl' target='_blank'>one_class_svm_model.pkl</a><br>"
      ],
      "text/plain": [
       "C:\\Users\\vijayabalan\\one_class_svm_model.pkl"
      ]
     },
     "execution_count": 3,
     "metadata": {},
     "output_type": "execute_result"
    }
   ],
   "source": [
    "from IPython.display import FileLink\n",
    "\n",
    "# Create a link to download the file\n",
    "FileLink(\"one_class_svm_model.pkl\")\n"
   ]
  },
  {
   "cell_type": "code",
   "execution_count": null,
   "id": "02978037-1507-41bb-a66f-67ae378c8b60",
   "metadata": {},
   "outputs": [],
   "source": []
  }
 ],
 "metadata": {
  "kernelspec": {
   "display_name": "Python 3 (ipykernel)",
   "language": "python",
   "name": "python3"
  },
  "language_info": {
   "codemirror_mode": {
    "name": "ipython",
    "version": 3
   },
   "file_extension": ".py",
   "mimetype": "text/x-python",
   "name": "python",
   "nbconvert_exporter": "python",
   "pygments_lexer": "ipython3",
   "version": "3.12.7"
  }
 },
 "nbformat": 4,
 "nbformat_minor": 5
}
